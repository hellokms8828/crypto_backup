{
  "nbformat": 4,
  "nbformat_minor": 0,
  "metadata": {
    "colab": {
      "name": "HW1_ipynb의_사본.ipynb의 사본",
      "provenance": [],
      "collapsed_sections": [],
      "toc_visible": true
    },
    "kernelspec": {
      "name": "python3",
      "display_name": "Python 3"
    }
  },
  "cells": [
    {
      "cell_type": "markdown",
      "metadata": {
        "id": "mjqz90yc6sc6",
        "colab_type": "text"
      },
      "source": [
        "# 암호 응용 및 실습 HW1\n",
        "\n",
        "**실습 과제 코드 작성시 유의사항**\n",
        "\n",
        "---\n",
        "1. 과제 제출 시에는 아래 채워야 하는 부분에 코드만 작성해서 제출. 과제 수행 시에 중간 결과 확인을 위해 연습 할 때 수행했던 코드들 및 새롭게 생성한 코드 블록들은 모두 삭제해서 제출해야 함. \n",
        "2. 각 문항마다 평가 코드 부분이 포함되어 있음. 실제 과제 평가 시에 활용될 부분이니 참고해서 과제를 수행할 수 있으나, 과제 제출 시에 해당 부분을 수정 및 삭제하지 않고 그대로 제출해야 함.\n",
        "3. 과제 수행 시에 복사 본을 만들어서 활용하고, 제출 파일은 필요한 부분만 작성해서 제출할 것을 권장함\n",
        "\n",
        "---\n",
        "\n",
        "\n",
        "\n"
      ]
    },
    {
      "cell_type": "markdown",
      "metadata": {
        "id": "zprwxJaMX6Fd",
        "colab_type": "text"
      },
      "source": [
        "# 1. 아핀암호 [10점]\n",
        "아핀 암호는 곱셈 암호와 덧셈 암호를 하나씩 동시에 적용한 것으로 다음과 같이 두 개의 키 k, m 을 가지고 암호화 할 수 있음\n",
        "- C = k*P + m (mod 26)\n",
        "- 위에서 C는 암호문, P는 평문\n",
        "\n",
        "고전 암호 실습에서 덧셈 암호 및 곱셈 암호를 구현했던 코드들을 기반으로 하여 다음의 함수들을 작성하여라\n",
        "\n",
        "1. keyAffineCipher(key1, key2)\n",
        "2. affineCipher(msg, key1, key2, mode)\n"
      ]
    },
    {
      "cell_type": "code",
      "metadata": {
        "id": "14AE0a7gWnzc",
        "colab_type": "code",
        "colab": {}
      },
      "source": [
        "def keyAffineCipher(key1, key2):\n",
        "  ## 아핀 암호에서는 2 개의 키가 사용되며, key1은 곱셈암호에 해당되는 키 k로 12개의 좋은 키가 있음\n",
        "  ## key2 는 덧셈암호에 해당되는 키 m 로 26개의 좋은 키가 있음\n",
        "  ## 아래 부분에 코드 작성\n",
        "  if type(key1) ==int:\n",
        "    key1 = key1%26 \n",
        "  if type(key2) ==int:\n",
        "    key2 = key2%26  \n",
        "  if type(key1) ==str:\n",
        "      if len(key1)==1:\n",
        "        key1 = ord(key1.upper()) - 65 \n",
        "        key1=int(key1)  \n",
        "  if type(key2) ==str:\n",
        "      if len(key2) ==1:\n",
        "        key2 = ord(key2.upper()) - 65\n",
        "        key2=int(key2) \n",
        "  if type(key1)!= int or type(key2)!= int: #위의 과정으로 키가 모두 int형으로 변환되지 않았다면 적절하지 않은 키다\n",
        "      print(\"This key is not appropriate\")\n",
        "  assert key1 in [1,3,5,7,9,11,15,17,19,21,23,25],\"bad key\"\n",
        "\n",
        "  encMap={}\n",
        "  decMap={}\n",
        "\n",
        "  for i in range(26):\n",
        "    encMap[chr(i+65)]=chr((i*key1+key2)%26+65)\n",
        "    decMap[chr((i*key1+key2)%26+65)]=chr(i+65)\n",
        "\n",
        "  return encMap, decMap"
      ],
      "execution_count": 0,
      "outputs": []
    },
    {
      "cell_type": "code",
      "metadata": {
        "id": "EOupw0zCZss3",
        "colab_type": "code",
        "colab": {}
      },
      "source": [
        "def affineCipher(msg, key1, key2, mode):\n",
        "  ## 가능한 mode 는 총 두 가지로 \"encrypt\", \"decrypt\" 모드가 있음\n",
        "  assert mode in ['encrypt', 'decrypt']\n",
        "  if mode == \"encrypt\":\n",
        "    print(\"Encrypting ... \")\n",
        "  else:\n",
        "    print(\"Decrypting ...\")\n",
        "  \n",
        "  encMap, decMap = keyAffineCipher(key1, key2)\n",
        "  msg1=msg.upper()\n",
        "  res=\"\"\n",
        "  ## 메세지 처리 부분 (작성 필요)\n",
        "  for i in msg1:\n",
        "    if i in encMap.keys():\n",
        "      if mode ==\"encrypt\":\n",
        "        res+=encMap[i]\n",
        "      if mode ==\"decrypt\":\n",
        "        res+=decMap[i]\n",
        "  ## 최종 결과 return\n",
        "  return res\n"
      ],
      "execution_count": 0,
      "outputs": []
    },
    {
      "cell_type": "markdown",
      "metadata": {
        "id": "6n3dzrBrzaoT",
        "colab_type": "text"
      },
      "source": [
        "## 아핀 암호 평가 코드\n",
        "아래 코드는 과제 평가 시에 사용할 부분으로 과제 제출 시에 삭제하지 않고, 그대로 제출하셔야 합니다. 해당 부분이 삭제 되었을 경우에는 과제 감점이 있을 수 있습니다."
      ]
    },
    {
      "cell_type": "code",
      "metadata": {
        "id": "YnQLZe87zpzV",
        "colab_type": "code",
        "outputId": "b9583ca9-9001-4c07-e8fe-d8db28060e3a",
        "colab": {
          "base_uri": "https://localhost:8080/",
          "height": 87
        }
      },
      "source": [
        "msg = \"I love to study cryptography!\"\n",
        "cipher = affineCipher(msg, 3, 4, 'encrypt')\n",
        "print(cipher)\n",
        "dec_msg = affineCipher(cipher, 3, 4, 'decrypt')#cipher로 바꾸었습니다\n",
        "print(dec_msg)"
      ],
      "execution_count": 20,
      "outputs": [
        {
          "output_type": "stream",
          "text": [
            "Encrypting ... \n",
            "CLUPQJUGJMNYKDYXJUWDEXZY\n",
            "Decrypting ...\n",
            "ILOVETOSTUDYCRYPTOGRAPHY\n"
          ],
          "name": "stdout"
        }
      ]
    },
    {
      "cell_type": "code",
      "metadata": {
        "id": "U_G-ohwj2r1p",
        "colab_type": "code",
        "outputId": "fa8985e6-5c0d-4ee1-97e9-368098bf708d",
        "colab": {
          "base_uri": "https://localhost:8080/",
          "height": 422
        }
      },
      "source": [
        "msg = \"I love to study cryptography!\"\n",
        "cipher = affineCipher(msg, 6, 4, 'encrypt')\n",
        "print(cipher)\n",
        "dec_msg = affineCipher(msg, 6, 4, 'decrypt')\n",
        "print(dec_msg)"
      ],
      "execution_count": 4,
      "outputs": [
        {
          "output_type": "stream",
          "text": [
            "Encrypting ... \n",
            "This key is not appropriate\n"
          ],
          "name": "stdout"
        },
        {
          "output_type": "error",
          "ename": "AssertionError",
          "evalue": "ignored",
          "traceback": [
            "\u001b[0;31m---------------------------------------------------------------------------\u001b[0m",
            "\u001b[0;31mAssertionError\u001b[0m                            Traceback (most recent call last)",
            "\u001b[0;32m<ipython-input-4-07f1dfd79601>\u001b[0m in \u001b[0;36m<module>\u001b[0;34m()\u001b[0m\n\u001b[1;32m      1\u001b[0m \u001b[0mmsg\u001b[0m \u001b[0;34m=\u001b[0m \u001b[0;34m\"I love to study cryptography!\"\u001b[0m\u001b[0;34m\u001b[0m\u001b[0;34m\u001b[0m\u001b[0m\n\u001b[0;32m----> 2\u001b[0;31m \u001b[0mcipher\u001b[0m \u001b[0;34m=\u001b[0m \u001b[0maffineCipher\u001b[0m\u001b[0;34m(\u001b[0m\u001b[0mmsg\u001b[0m\u001b[0;34m,\u001b[0m \u001b[0;36m6\u001b[0m\u001b[0;34m,\u001b[0m \u001b[0;36m4\u001b[0m\u001b[0;34m,\u001b[0m \u001b[0;34m'encrypt'\u001b[0m\u001b[0;34m)\u001b[0m\u001b[0;34m\u001b[0m\u001b[0;34m\u001b[0m\u001b[0m\n\u001b[0m\u001b[1;32m      3\u001b[0m \u001b[0mprint\u001b[0m\u001b[0;34m(\u001b[0m\u001b[0mcipher\u001b[0m\u001b[0;34m)\u001b[0m\u001b[0;34m\u001b[0m\u001b[0;34m\u001b[0m\u001b[0m\n\u001b[1;32m      4\u001b[0m \u001b[0mdec_msg\u001b[0m \u001b[0;34m=\u001b[0m \u001b[0maffineCipher\u001b[0m\u001b[0;34m(\u001b[0m\u001b[0mmsg\u001b[0m\u001b[0;34m,\u001b[0m \u001b[0;36m6\u001b[0m\u001b[0;34m,\u001b[0m \u001b[0;36m4\u001b[0m\u001b[0;34m,\u001b[0m \u001b[0;34m'decrypt'\u001b[0m\u001b[0;34m)\u001b[0m\u001b[0;34m\u001b[0m\u001b[0;34m\u001b[0m\u001b[0m\n\u001b[1;32m      5\u001b[0m \u001b[0mprint\u001b[0m\u001b[0;34m(\u001b[0m\u001b[0mdec_msg\u001b[0m\u001b[0;34m)\u001b[0m\u001b[0;34m\u001b[0m\u001b[0;34m\u001b[0m\u001b[0m\n",
            "\u001b[0;32m<ipython-input-2-01ee1a36c129>\u001b[0m in \u001b[0;36maffineCipher\u001b[0;34m(msg, key1, key2, mode)\u001b[0m\n\u001b[1;32m      7\u001b[0m     \u001b[0mprint\u001b[0m\u001b[0;34m(\u001b[0m\u001b[0;34m\"Decrypting ...\"\u001b[0m\u001b[0;34m)\u001b[0m\u001b[0;34m\u001b[0m\u001b[0;34m\u001b[0m\u001b[0m\n\u001b[1;32m      8\u001b[0m \u001b[0;34m\u001b[0m\u001b[0m\n\u001b[0;32m----> 9\u001b[0;31m   \u001b[0mencMap\u001b[0m\u001b[0;34m,\u001b[0m \u001b[0mdecMap\u001b[0m \u001b[0;34m=\u001b[0m \u001b[0mkeyAffineCipher\u001b[0m\u001b[0;34m(\u001b[0m\u001b[0mkey1\u001b[0m\u001b[0;34m,\u001b[0m \u001b[0mkey2\u001b[0m\u001b[0;34m)\u001b[0m\u001b[0;34m\u001b[0m\u001b[0;34m\u001b[0m\u001b[0m\n\u001b[0m\u001b[1;32m     10\u001b[0m   \u001b[0mmsg1\u001b[0m\u001b[0;34m=\u001b[0m\u001b[0mmsg\u001b[0m\u001b[0;34m.\u001b[0m\u001b[0mupper\u001b[0m\u001b[0;34m(\u001b[0m\u001b[0;34m)\u001b[0m\u001b[0;34m\u001b[0m\u001b[0;34m\u001b[0m\u001b[0m\n\u001b[1;32m     11\u001b[0m   \u001b[0mres\u001b[0m\u001b[0;34m=\u001b[0m\u001b[0;34m\"\"\u001b[0m\u001b[0;34m\u001b[0m\u001b[0;34m\u001b[0m\u001b[0m\n",
            "\u001b[0;32m<ipython-input-1-d7f0f7a425e9>\u001b[0m in \u001b[0;36mkeyAffineCipher\u001b[0;34m(key1, key2)\u001b[0m\n\u001b[1;32m     17\u001b[0m   \u001b[0;32mif\u001b[0m \u001b[0mtype\u001b[0m\u001b[0;34m(\u001b[0m\u001b[0mkey1\u001b[0m\u001b[0;34m)\u001b[0m\u001b[0;34m==\u001b[0m \u001b[0mint\u001b[0m \u001b[0;32mor\u001b[0m \u001b[0mtype\u001b[0m\u001b[0;34m(\u001b[0m\u001b[0mkey2\u001b[0m\u001b[0;34m)\u001b[0m\u001b[0;34m==\u001b[0m \u001b[0mint\u001b[0m\u001b[0;34m:\u001b[0m\u001b[0;31m#위의 과정으로 키가 int형으로 변환되지 않았다면 적절하지 않은 키다\u001b[0m\u001b[0;34m\u001b[0m\u001b[0;34m\u001b[0m\u001b[0m\n\u001b[1;32m     18\u001b[0m       \u001b[0mprint\u001b[0m\u001b[0;34m(\u001b[0m\u001b[0;34m\"This key is not appropriate\"\u001b[0m\u001b[0;34m)\u001b[0m\u001b[0;34m\u001b[0m\u001b[0;34m\u001b[0m\u001b[0m\n\u001b[0;32m---> 19\u001b[0;31m   \u001b[0;32massert\u001b[0m \u001b[0mkey1\u001b[0m \u001b[0;32min\u001b[0m \u001b[0;34m[\u001b[0m\u001b[0;36m1\u001b[0m\u001b[0;34m,\u001b[0m\u001b[0;36m3\u001b[0m\u001b[0;34m,\u001b[0m\u001b[0;36m5\u001b[0m\u001b[0;34m,\u001b[0m\u001b[0;36m7\u001b[0m\u001b[0;34m,\u001b[0m\u001b[0;36m9\u001b[0m\u001b[0;34m,\u001b[0m\u001b[0;36m11\u001b[0m\u001b[0;34m,\u001b[0m\u001b[0;36m15\u001b[0m\u001b[0;34m,\u001b[0m\u001b[0;36m17\u001b[0m\u001b[0;34m,\u001b[0m\u001b[0;36m19\u001b[0m\u001b[0;34m,\u001b[0m\u001b[0;36m21\u001b[0m\u001b[0;34m,\u001b[0m\u001b[0;36m23\u001b[0m\u001b[0;34m,\u001b[0m\u001b[0;36m25\u001b[0m\u001b[0;34m]\u001b[0m\u001b[0;34m,\u001b[0m\u001b[0;34m\"bad key\"\u001b[0m\u001b[0;34m\u001b[0m\u001b[0;34m\u001b[0m\u001b[0m\n\u001b[0m\u001b[1;32m     20\u001b[0m \u001b[0;34m\u001b[0m\u001b[0m\n\u001b[1;32m     21\u001b[0m   \u001b[0mencMap\u001b[0m\u001b[0;34m=\u001b[0m\u001b[0;34m{\u001b[0m\u001b[0;34m}\u001b[0m\u001b[0;34m\u001b[0m\u001b[0;34m\u001b[0m\u001b[0m\n",
            "\u001b[0;31mAssertionError\u001b[0m: bad key"
          ]
        }
      ]
    },
    {
      "cell_type": "markdown",
      "metadata": {
        "id": "5CSezOzdaON7",
        "colab_type": "text"
      },
      "source": [
        "# 2. 비즈네르 암호 [20점]\n",
        "\n",
        "비즈네르 암호는 다표식 치환 암호로 메세지 속 문자의 위치에 따라서 치환 규칙이 달라지는 암호로 한 자리 이상의 키로 정의되는 값들 만큼 글자들이 이동하여 암호화를 수행할 수 있음\n",
        "\n",
        "- 예를 들어, 암호화 키가 DUH 라면, 평문의 글자들을 순서대로 3, 20, 7 자리 이동\n",
        "\n",
        "덧셈암호 구현하기 (2) 부분의 코드를 참고하여 비즈네르 암호를 구현하여라\n"
      ]
    },
    {
      "cell_type": "code",
      "metadata": {
        "id": "kSOIoyz9bRQh",
        "colab_type": "code",
        "colab": {}
      },
      "source": [
        "def encAdd(ms, key):\n",
        "  ## 아래 코드 작성\n",
        "  encMap={}\n",
        "  key=ord(key)-65\n",
        "  for i in range(26):\n",
        "    encMap[chr(i+65)]=chr((i+key)%26+65)\n",
        "  c=encMap[ms]\n",
        "  return c\n",
        "\n",
        "def decAdd(ms, key):\n",
        "  ## 아래 코드 작성\n",
        "  decMap={}\n",
        "  key=ord(key)-65\n",
        "  for i in range(26):\n",
        "    decMap[chr((i+key)%26+65)]=chr(i+65)\n",
        "  c=decMap[ms]\n",
        "  return c\n",
        "\n",
        "def vigCipher(msg, key, mode):\n",
        "  ## 비즈네르 암호에서 키는 한글자나 정수 값이 아닌, 공백 없는 문자열 이어야 함\n",
        "  ## 따라서 공백이 있을 경우에 이를 제거하고 문자들은 대문자로 변환되어야 함\n",
        "  ## 예를 들면, \"dkep\" 와 같은 문자열은 \"DKEP\"의 키가 될 수 있음\n",
        "  ## \"dk ep\"와 같은 문자열이 들어온 경우에도 \"DKEP\"와 같이 변환되어 키로 사용되어야 함\n",
        "  assert mode in ['encrypt', 'decrypt']\n",
        "  if mode == \"encrypt\":\n",
        "    print(\"Encrypting ... \")\n",
        "  else:\n",
        "    print(\"Decrypting ...\")\n",
        "  \n",
        "  filt=[]\n",
        "  key1=\"\"\n",
        "  for i in range(26):\n",
        "    filt.append(chr(i+65))#리스트로 알파벳을 채워넣음\n",
        "  \n",
        "    ## 적법한 키로 만들기 (아래 코드 작성)\n",
        "  if type(key)==str:\n",
        "    key=key.upper()\n",
        "    for i in key:\n",
        "      if i in filt:#알파벳 리스트 외의 값이 들어오면 그냥 넘어간다.(필터링)\n",
        "        key1+=i\n",
        "  else :\n",
        "    print(\"this is appopriate key\")\n",
        " \n",
        "  #앞으로key1을 사용\n",
        "  ## 한 글자씩 해당되는 위치의 키로 암호화 하기 (아래 코드 작성)\n",
        "  msg1=msg.upper()\n",
        "  le=len(key1)\n",
        "  res=\"\"\n",
        "  a=0\n",
        "  for i in msg1:\n",
        "    if i in filt:\n",
        "      k=key1[a%le]#키를 바꿔가며 암복호화를 하기 위하여 루프를 돌때마다 1씩 증가하는 a를 키의 길이로 나눈 나머지 값을 갖게 한다.\n",
        "      if mode==\"encrypt\":\n",
        "        res+=encAdd(i,k)\n",
        "      else:\n",
        "        res+=decAdd(i,k)\n",
        "      a+=1\n",
        "  return res\n"
      ],
      "execution_count": 0,
      "outputs": []
    },
    {
      "cell_type": "markdown",
      "metadata": {
        "id": "eWfmJ19Y3Lu2",
        "colab_type": "text"
      },
      "source": [
        "## 비즈네르 암호 평가 코드\n",
        "아래 코드는 과제 평가 시에 사용할 부분으로 과제 제출 시에 삭제하지 않고, 그대로 제출하셔야 합니다. 해당 부분이 삭제 되었을 경우에는 과제 감점이 있을 수 있습니다."
      ]
    },
    {
      "cell_type": "code",
      "metadata": {
        "id": "0hsOmm_h27-k",
        "colab_type": "code",
        "outputId": "3da78fb2-9f2a-44cd-df01-e398b4fde9d2",
        "colab": {
          "base_uri": "https://localhost:8080/",
          "height": 87
        }
      },
      "source": [
        "msg = \"I love to study cryptography!\"\n",
        "cipher = vigCipher(msg, \"efa\", 'encrypt')\n",
        "print(cipher)\n",
        "dec_msg = vigCipher(cipher, \"efa\", 'decrypt')\n",
        "print(dec_msg)"
      ],
      "execution_count": 6,
      "outputs": [
        {
          "output_type": "stream",
          "text": [
            "Encrypting ... \n",
            "MQOZJTSXTYIYGWYTYOKWATMY\n",
            "Decrypting ...\n",
            "ILOVETOSTUDYCRYPTOGRAPHY\n"
          ],
          "name": "stdout"
        }
      ]
    },
    {
      "cell_type": "markdown",
      "metadata": {
        "id": "qIInMc7idCev",
        "colab_type": "text"
      },
      "source": [
        "# 3. 블록 암호 메세지 채움 [20점]\n",
        "블록 암호는 정해진 블록 크기로 메세지들을 채워서 암호화를 수행해야 함. \n",
        "\n",
        "대칭키 암호 실습에서 메시지 블록 패딩 (2)를 참고하여 수업 시간에 배운 방식으로 16바이트 블록에 대해서 메세지 채움 및 채워진 메세지를 원래 메세지로 복원하는 함수를 작성하여라\n",
        "- 메세지 채움: makeEnabled(msg)\n",
        "- 원래 메세지로 복원: postDec(msg)"
      ]
    },
    {
      "cell_type": "code",
      "metadata": {
        "id": "mZT9NeKzetZj",
        "colab_type": "code",
        "colab": {}
      },
      "source": [
        "# 메세지 채움\n",
        "def makeEnabled(msg):\n",
        "  ## makeEnabled 에서 입력으로 들어오는 msg 는 문자열 타입\n",
        "  ## makeEnabled 에서 출력인 res 도 채움이 된 문자열\n",
        "  ## 코드 작성\n",
        "  length = 16-(len(msg)%16)\n",
        "  msg += chr(length)*length\n",
        "  return msg\n",
        "\n",
        "# 채워진 메세지 복원\n",
        "def postDec(msg2):\n",
        "  ## postDec 에서 입력으로 들어오는 msg2는 문자열 타입이 아닌 바이트 열인 bytes임\n",
        "  ## postDec 에서 출력인 postmsg 는 채움 바이트들이 제거된 문자열\n",
        "  ## 코드 작성\n",
        "  nn=msg2[-1]\n",
        "  nn=int(nn)\n",
        "  return msg2[:-nn].decode()"
      ],
      "execution_count": 0,
      "outputs": []
    },
    {
      "cell_type": "markdown",
      "metadata": {
        "id": "nJE3dQ3c3U5a",
        "colab_type": "text"
      },
      "source": [
        "## 메세지 채움 평가 코드\n",
        "아래 코드는 과제 평가 시에 사용할 부분으로 과제 제출 시에 삭제하지 않고, 그대로 제출하셔야 합니다. 해당 부분이 삭제 되었을 경우에는 과제 감점이 있을 수 있습니다."
      ]
    },
    {
      "cell_type": "code",
      "metadata": {
        "id": "bWqqEBD-3Zb9",
        "colab_type": "code",
        "outputId": "58afd339-924c-4954-b029-a884d1debc2c",
        "colab": {
          "base_uri": "https://localhost:8080/",
          "height": 52
        }
      },
      "source": [
        "msg = \"I love Cryptography\"\n",
        "msg = makeEnabled(msg)\n",
        "print(msg)\n",
        "postmsg = postDec(msg.encode())\n",
        "print(postmsg)"
      ],
      "execution_count": 8,
      "outputs": [
        {
          "output_type": "stream",
          "text": [
            "I love Cryptography\r\r\r\r\r\r\r\r\r\r\r\r\r\n",
            "I love Cryptography\n"
          ],
          "name": "stdout"
        }
      ]
    },
    {
      "cell_type": "code",
      "metadata": {
        "id": "NInCIiLdMK6k",
        "colab_type": "code",
        "colab": {}
      },
      "source": [
        ""
      ],
      "execution_count": 0,
      "outputs": []
    }
  ]
}